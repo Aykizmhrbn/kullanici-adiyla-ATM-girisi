{
 "cells": [
  {
   "cell_type": "code",
   "execution_count": 3,
   "id": "773993ca",
   "metadata": {},
   "outputs": [],
   "source": [
    "def sifre():\n",
    "    sis_sifre=\"123\"\n",
    "    sis_adi=\"aykiz\"\n",
    "    hakki=3\n",
    "    while True:\n",
    "        adi=input(\"kullanici adi giriniz:\") \n",
    "        sifre=input(\"sifre giriniz:\")\n",
    "        if(adi!= sis_adi and sifre==sis_sifre):\n",
    "            print(\"kullanici adi hatali\")\n",
    "            hakki -= 1\n",
    "            print(\"Giriş Hakkı: \",hakki)\n",
    "        elif(sifre!= sis_sifre and adi== sis_adi ):\n",
    "            print(\"sifre hatali\")\n",
    "            hakki -= 1\n",
    "            print(\"Giriş Hakkı: \",hakki)\n",
    "        elif(adi!=sis_adi and sifre!=sis_sifre):\n",
    "            print(\"kullaniciadi ve sifre hatali\")\n",
    "            hakki -= 1\n",
    "            print(\"Giriş Hakkı: \",hakki)\n",
    "            print(hakki)\n",
    "        else:\n",
    "            print(\"\"\"**************ATM sistemine hosgeldiniz****************\n",
    "                1.islem bakiye sorgulama\n",
    "                2.islem para yatirma\n",
    "                3.islem para cekme\n",
    "                cimak icin q tusunu basiniz\n",
    "            \"\"\")\n",
    "            bakiye  = 1000  \n",
    "\n",
    "            while True:\n",
    "                işlem = input(\"İşlemi giriniz:\")\n",
    "\n",
    "                if (işlem == \"q\"):\n",
    "                    print(\"Yine bekleriz....\")\n",
    "                    break\n",
    "                elif (işlem == \"1\"):\n",
    "                    print(\"Bakiyeniz {} tldir\".format(bakiye))\n",
    "                elif (işlem == \"2\"):\n",
    "                    miktar = int(input(\"Yatırmak istediğiniz tutar:\"))\n",
    "\n",
    "                    bakiye += miktar\n",
    "                elif (işlem == \"3\"):\n",
    "                    miktar = int(input(\"Çekmek istediğiniz tutar:\"))\n",
    "                    if (bakiye - miktar < 0 ):\n",
    "                        print(\"yetersiz bakiye...\")\n",
    "                        print(\"Bakiyeniz {} tldir\".format(bakiye))\n",
    "                        continue\n",
    "                    bakiye -= miktar\n",
    "\n",
    "                else:\n",
    "                    print(\"Lütfen geçerli bir işlem giriniz.\")\n",
    "            break          \n",
    "        if (hakki==0):\n",
    "            print(\"giris hakkiniz bitti\")\n",
    "            break\n",
    "        if (sifre==\"q\"):\n",
    "            break                "
   ]
  },
  {
   "cell_type": "code",
   "execution_count": 4,
   "id": "133299a0",
   "metadata": {},
   "outputs": [
    {
     "name": "stdout",
     "output_type": "stream",
     "text": [
      "kullanici adi giriniz:aykiz\n",
      "sifre giriniz:afdas\n",
      "sifre hatali\n",
      "Giriş Hakkı:  2\n",
      "kullanici adi giriniz:asfas\n",
      "sifre giriniz:123\n",
      "kullanici adi hatali\n",
      "Giriş Hakkı:  1\n",
      "kullanici adi giriniz:ssfa\n",
      "sifre giriniz:asfa\n",
      "kullaniciadi ve sifre hatali\n",
      "Giriş Hakkı:  0\n",
      "0\n",
      "giris hakkiniz bitti\n"
     ]
    }
   ],
   "source": [
    "sifre()"
   ]
  },
  {
   "cell_type": "code",
   "execution_count": null,
   "id": "0e9af744",
   "metadata": {},
   "outputs": [],
   "source": []
  }
 ],
 "metadata": {
  "kernelspec": {
   "display_name": "Python 3 (ipykernel)",
   "language": "python",
   "name": "python3"
  },
  "language_info": {
   "codemirror_mode": {
    "name": "ipython",
    "version": 3
   },
   "file_extension": ".py",
   "mimetype": "text/x-python",
   "name": "python",
   "nbconvert_exporter": "python",
   "pygments_lexer": "ipython3",
   "version": "3.9.13"
  }
 },
 "nbformat": 4,
 "nbformat_minor": 5
}
